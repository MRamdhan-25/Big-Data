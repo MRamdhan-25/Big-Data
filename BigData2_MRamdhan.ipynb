{
 "cells": [
  {
   "cell_type": "code",
   "execution_count": 1,
   "id": "f29dbbe9-6989-4ecd-930a-62867af1a52d",
   "metadata": {},
   "outputs": [
    {
     "name": "stderr",
     "output_type": "stream",
     "text": [
      "WARNING: Using incubator modules: jdk.incubator.vector\n",
      "Using Spark's default log4j profile: org/apache/spark/log4j2-defaults.properties\n",
      "25/09/02 15:34:20 WARN Utils: Your hostname, Rama, resolves to a loopback address: 127.0.1.1; using 10.0.2.15 instead (on interface enp0s3)\n",
      "25/09/02 15:34:20 WARN Utils: Set SPARK_LOCAL_IP if you need to bind to another address\n",
      "Using Spark's default log4j profile: org/apache/spark/log4j2-defaults.properties\n",
      "Setting default log level to \"WARN\".\n",
      "To adjust logging level use sc.setLogLevel(newLevel). For SparkR, use setLogLevel(newLevel).\n",
      "25/09/02 15:34:23 WARN NativeCodeLoader: Unable to load native-hadoop library for your platform... using builtin-java classes where applicable\n",
      "                                                                                "
     ]
    },
    {
     "name": "stdout",
     "output_type": "stream",
     "text": [
      "+-----+----+----------------+------------+-------------+\n",
      "| Nama|Usia|       Pekerjaan|        Hobi|Jenis Kelamin|\n",
      "+-----+----+----------------+------------+-------------+\n",
      "|  Ali|  34|            Guru|Membaca Buku|    Laki-laki|\n",
      "| Budi|  23|    Buruh Pabrik|   Memancing|    Laki-Laki|\n",
      "|Citra|  29|         Notaris|    Shopping|    Perempuan|\n",
      "| Dina|  45|Ibu Rumah Tangga|     Memasak|    Perempuan|\n",
      "+-----+----+----------------+------------+-------------+\n",
      "\n"
     ]
    }
   ],
   "source": [
    "#Tugas 1 membuat dataframe dan memanipulasi data\n",
    "from pyspark.sql import SparkSession\n",
    "\n",
    "# Memulai Spark session\n",
    "spark = SparkSession.builder.appName(\"BigDataPractice\").getOrCreate()\n",
    "\n",
    "# Membuat DataFrame sederhana\n",
    "data = [(\"Ali\", 34, \"Guru\",\"Membaca Buku\",\"Laki-laki\"), \n",
    "        (\"Budi\", 23,\"Buruh Pabrik\",\"Memancing\",\"Laki-Laki\"), \n",
    "        (\"Citra\", 29,\"Notaris\",\"Shopping\",\"Perempuan\"), \n",
    "        (\"Dina\", 45,\"Ibu Rumah Tangga\",\"Memasak\",\"Perempuan\")]\n",
    "columns = [\"Nama\", \"Usia\",\"Pekerjaan\",\"Hobi\",\"Jenis Kelamin\"]\n",
    "df = spark.createDataFrame(data, columns)\n",
    "\n",
    "# Menampilkan DataFrame\n",
    "df.show()\n"
   ]
  },
  {
   "cell_type": "code",
   "execution_count": 2,
   "id": "584b158d-9ab5-475c-a4c3-4d80ee790966",
   "metadata": {},
   "outputs": [
    {
     "name": "stdout",
     "output_type": "stream",
     "text": [
      "+-----+----+----------------+------------+-------------+\n",
      "| Nama|Usia|       Pekerjaan|        Hobi|Jenis Kelamin|\n",
      "+-----+----+----------------+------------+-------------+\n",
      "|  Ali|  34|            Guru|Membaca Buku|    Laki-laki|\n",
      "| Budi|  23|    Buruh Pabrik|   Memancing|    Laki-Laki|\n",
      "|Citra|  29|         Notaris|    Shopping|    Perempuan|\n",
      "| Dina|  45|Ibu Rumah Tangga|     Memasak|    Perempuan|\n",
      "+-----+----+----------------+------------+-------------+\n",
      "\n",
      "+----+----+----------------+------------+-------------+\n",
      "|Nama|Usia|       Pekerjaan|        Hobi|Jenis Kelamin|\n",
      "+----+----+----------------+------------+-------------+\n",
      "| Ali|  34|            Guru|Membaca Buku|    Laki-laki|\n",
      "|Dina|  45|Ibu Rumah Tangga|     Memasak|    Perempuan|\n",
      "+----+----+----------------+------------+-------------+\n",
      "\n",
      "+---------+\n",
      "|avg(Usia)|\n",
      "+---------+\n",
      "|    32.75|\n",
      "+---------+\n",
      "\n",
      "+-----+----+----------------+------------+-------------+\n",
      "| Nama|Usia|       Pekerjaan|        Hobi|Jenis Kelamin|\n",
      "+-----+----+----------------+------------+-------------+\n",
      "| Dina|  45|Ibu Rumah Tangga|     Memasak|    Perempuan|\n",
      "|  Ali|  34|            Guru|Membaca Buku|    Laki-laki|\n",
      "|Citra|  29|         Notaris|    Shopping|    Perempuan|\n",
      "| Budi|  23|    Buruh Pabrik|   Memancing|    Laki-Laki|\n",
      "+-----+----+----------------+------------+-------------+\n",
      "\n"
     ]
    }
   ],
   "source": [
    "from pyspark.sql import SparkSession\n",
    "\n",
    "# Memulai Spark session\n",
    "spark = SparkSession.builder.appName(\"BigDataPractice\").getOrCreate()\n",
    "\n",
    "# Membuat DataFrame sederhana\n",
    "data = [(\"Ali\", 34, \"Guru\",\"Membaca Buku\",\"Laki-laki\"),\n",
    "        (\"Budi\", 23,\"Buruh Pabrik\",\"Memancing\",\"Laki-Laki\"),\n",
    "        (\"Citra\", 29,\"Notaris\",\"Shopping\",\"Perempuan\"),\n",
    "        (\"Dina\", 45,\"Ibu Rumah Tangga\",\"Memasak\",\"Perempuan\")]\n",
    "columns = [\"Nama\", \"Usia\",\"Pekerjaan\",\"Hobi\",\"Jenis Kelamin\"]\n",
    "df = spark.createDataFrame(data, columns)\n",
    "\n",
    "# Menampilkan DataFrame\n",
    "df.show()\n",
    "\n",
    "# Filtering data\n",
    "df_filtered = df.filter(df['Usia'] > 30)\n",
    "df_filtered.show()\n",
    "\n",
    "# Menghitung rata-rata usia\n",
    "from pyspark.sql.functions import avg\n",
    "df.groupBy().agg(avg(\"Usia\")).show()\n",
    "\n",
    "# Mengurutkan data berdasarkan usia\n",
    "df_sorted = df.orderBy(\"Usia\", ascending=False)\n",
    "df_sorted.show()"
   ]
  },
  {
   "cell_type": "code",
   "execution_count": 3,
   "id": "5d92f6b8-8558-4ef9-a01a-1a6ebfa53991",
   "metadata": {},
   "outputs": [
    {
     "name": "stdout",
     "output_type": "stream",
     "text": [
      "+----+----+----------------+------------+-------------+\n",
      "|Nama|Usia|       Pekerjaan|        Hobi|Jenis Kelamin|\n",
      "+----+----+----------------+------------+-------------+\n",
      "| Ali|  34|            Guru|Membaca Buku|    Laki-laki|\n",
      "|Dina|  45|Ibu Rumah Tangga|     Memasak|    Perempuan|\n",
      "+----+----+----------------+------------+-------------+\n",
      "\n"
     ]
    }
   ],
   "source": [
    "import pandas as pd\n",
    "\n",
    "# Membuat DataFrame Pandas\n",
    "data_pandas = {\"Nama\": [\"Ali\", \"Budi\", \"Citra\", \"Dina\"], \"Usia\": [34, 23, 29, 45]}\n",
    "df_pandas = pd.DataFrame(data_pandas)\n",
    "\n",
    "df_filtered = df.filter(df['Usia'] > 30)\n",
    "df_filtered.show()\n",
    "# Menampilkan DataFrame Pandas"
   ]
  },
  {
   "cell_type": "code",
   "execution_count": 4,
   "id": "29998a86-5fb3-4fe3-bf6c-ddc33edb4601",
   "metadata": {},
   "outputs": [
    {
     "ename": "NameError",
     "evalue": "name 'plt' is not defined",
     "output_type": "error",
     "traceback": [
      "\u001b[31m---------------------------------------------------------------------------\u001b[39m",
      "\u001b[31mNameError\u001b[39m                                 Traceback (most recent call last)",
      "\u001b[36mCell\u001b[39m\u001b[36m \u001b[39m\u001b[32mIn[4]\u001b[39m\u001b[32m, line 18\u001b[39m\n\u001b[32m     16\u001b[39m \u001b[38;5;66;03m# Plotting Data\u001b[39;00m\n\u001b[32m     17\u001b[39m df_joined.plot(x=\u001b[33m'\u001b[39m\u001b[33mNama\u001b[39m\u001b[33m'\u001b[39m, kind=\u001b[33m'\u001b[39m\u001b[33mbar\u001b[39m\u001b[33m'\u001b[39m)\n\u001b[32m---> \u001b[39m\u001b[32m18\u001b[39m plt.show()\n\u001b[32m     19\u001b[39m df_joined\n",
      "\u001b[31mNameError\u001b[39m: name 'plt' is not defined"
     ]
    },
    {
     "data": {
      "image/png": "[encoded data removed]",
      "text/plain": [
       "<Figure size 640x480 with 1 Axes>"
      ]
     },
     "metadata": {},
     "output_type": "display_data"
    }
   ],
   "source": [
    "import pandas as pd\n",
    "\n",
    "# Membuat DataFrame Pandas\n",
    "data_pandas = {\"Nama\": [\"Ali\", \"Budi\", \"Citra\", \"Dina\"], \n",
    "               \"Usia\": [34, 23, 29, 45]}\n",
    "df_pandas = pd.DataFrame(data_pandas)\n",
    "\n",
    "# Membuat DataFrame kedua\n",
    "data_pandas_2 = {\"Nama\": [\"Ali\", \"Budi\", \"Citra\", \"Dina\"], \n",
    "                 \"Pekerjaan\": [\"Guru\", \"Buruh Pabrik\", \"Notaris\", \"Ibu Rumah Tangga\"]}\n",
    "df_pandas_2 = pd.DataFrame(data_pandas_2)\n",
    "\n",
    "# Join antara dua DataFrame\n",
    "df_joined = pd.merge(df_pandas, df_pandas_2, on=\"Nama\")\n",
    "\n",
    "# Plotting Data\n",
    "df_joined.plot(x='Nama', kind='bar')\n",
    "plt.show()\n",
    "df_joined"
   ]
  },
  {
   "cell_type": "code",
   "execution_count": 5,
   "id": "cace0d23-41b4-4c4c-a67a-178d9b3dab85",
   "metadata": {},
   "outputs": [
    {
     "name": "stdout",
     "output_type": "stream",
     "text": [
      "+-----+----+\n",
      "| Nama|Usia|\n",
      "+-----+----+\n",
      "|  Ali|  34|\n",
      "| Budi|  23|\n",
      "|Citra|  29|\n",
      "| Dina|  45|\n",
      "+-----+----+\n",
      "\n",
      "+---------+\n",
      "|avg(Usia)|\n",
      "+---------+\n",
      "|    32.75|\n",
      "+---------+\n",
      "\n"
     ]
    }
   ],
   "source": [
    "# Mengonversi DataFrame dari PySpark ke Pandas\n",
    "df_pandas_from_spark = df.toPandas()\n",
    "\n",
    "# Mengonversi DataFrame dari Pandas ke PySpark\n",
    "df_spark_from_pandas = spark.createDataFrame(df_pandas)\n",
    "\n",
    "# Menampilkan DataFrame hasil konversi\n",
    "df_pandas_from_spark, df_spark_from_pandas.show()\n",
    "\n",
    "#Perintah untuk menghitung rata-rata usia\n",
    "df.groupBy().agg(avg(\"Usia\")).show()"
   ]
  },
  {
   "cell_type": "code",
   "execution_count": 6,
   "id": "7a2bf54f-01e2-4d97-8078-264dabad5bc7",
   "metadata": {},
   "outputs": [
    {
     "name": "stdout",
     "output_type": "stream",
     "text": [
      "+-----+----+\n",
      "| Nama|Usia|\n",
      "+-----+----+\n",
      "|  Ali|  34|\n",
      "| Budi|  23|\n",
      "|Citra|  29|\n",
      "| Dina|  45|\n",
      "+-----+----+\n",
      "\n",
      "+---------+\n",
      "|max(Usia)|\n",
      "+---------+\n",
      "|       45|\n",
      "+---------+\n",
      "\n"
     ]
    }
   ],
   "source": [
    "# Mengonversi DataFrame dari PySpark ke Pandas\n",
    "df_pandas_from_spark = df.toPandas()\n",
    "\n",
    "# Mengonversi DataFrame dari Pandas ke PySpark\n",
    "df_spark_from_pandas = spark.createDataFrame(df_pandas)\n",
    "\n",
    "# Menampilkan DataFrame hasil konversi\n",
    "df_pandas_from_spark, df_spark_from_pandas.show()\n",
    "\n",
    "#Menampilan nilai maksimum usia\n",
    "from pyspark.sql.functions import max\n",
    "df.groupBy().agg(max(\"Usia\")).show()"
   ]
  },
  {
   "cell_type": "code",
   "execution_count": null,
   "id": "21119170-0fe3-43a6-a7de-6883ce70bfe0",
   "metadata": {},
   "outputs": [],
   "source": []
  }
 ],
 "metadata": {
  "kernelspec": {
   "display_name": "Python 3 (ipykernel)",
   "language": "python",
   "name": "python3"
  },
  "language_info": {
   "codemirror_mode": {
    "name": "ipython",
    "version": 3
   },
   "file_extension": ".py",
   "mimetype": "text/x-python",
   "name": "python",
   "nbconvert_exporter": "python",
   "pygments_lexer": "ipython3",
   "version": "3.13.5"
  }
 },
 "nbformat": 4,
 "nbformat_minor": 5
}

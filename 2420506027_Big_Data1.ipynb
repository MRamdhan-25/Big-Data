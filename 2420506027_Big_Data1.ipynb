{
  "nbformat": 4,
  "nbformat_minor": 0,
  "metadata": {
    "colab": {
      "provenance": [],
      "authorship_tag": "ABX9TyP9a4tWvhJ2QVRF0rCzyDWI",
      "include_colab_link": true
    },
    "kernelspec": {
      "name": "python3",
      "display_name": "Python 3"
    },
    "language_info": {
      "name": "python"
    }
  },
  "cells": [
    {
      "cell_type": "markdown",
      "metadata": {
        "id": "view-in-github",
        "colab_type": "text"
      },
      "source": [
        "<a href=\"https://colab.research.google.com/github/MRamdhan-25/Big-Data/blob/main/2420506027_Big_Data1.ipynb\" target=\"_parent\"><img src=\"https://colab.research.google.com/assets/colab-badge.svg\" alt=\"Open In Colab\"/></a>"
      ]
    },
    {
      "cell_type": "markdown",
      "source": [
        "Latihan 1"
      ],
      "metadata": {
        "id": "tPgwpIYiKBly"
      }
    },
    {
      "cell_type": "markdown",
      "source": [
        "Setelah dimodifikasi"
      ],
      "metadata": {
        "id": "t6su0gwsLwKy"
      }
    },
    {
      "cell_type": "code",
      "execution_count": 1,
      "metadata": {
        "id": "1rN40DqK4ZWc",
        "colab": {
          "base_uri": "https://localhost:8080/"
        },
        "outputId": "21e4b340-97a5-419d-97e2-44cb5975c3d2"
      },
      "outputs": [
        {
          "output_type": "stream",
          "name": "stdout",
          "text": [
            "+-----+----+----------------+------------+-------------+\n",
            "| Nama|Usia|       Pekerjaan|        Hobi|Jenis Kelamin|\n",
            "+-----+----+----------------+------------+-------------+\n",
            "|  Ali|  34|            Guru|Membaca Buku|    Laki-laki|\n",
            "| Budi|  23|    Buruh Pabrik|   Memancing|    Laki-Laki|\n",
            "|Citra|  29|         Notaris|    Shopping|    Perempuan|\n",
            "| Dina|  45|Ibu Rumah Tangga|     Memasak|    Perempuan|\n",
            "+-----+----+----------------+------------+-------------+\n",
            "\n"
          ]
        }
      ],
      "source": [
        "#Tugas 1 membuat dataframe dan memanipulasi data\n",
        "from pyspark.sql import SparkSession\n",
        "\n",
        "# Memulai Spark session\n",
        "spark = SparkSession.builder.appName(\"BigDataPractice\").getOrCreate()\n",
        "\n",
        "# Membuat DataFrame sederhana\n",
        "data = [(\"Ali\", 34, \"Guru\",\"Membaca Buku\",\"Laki-laki\"),\n",
        "        (\"Budi\", 23,\"Buruh Pabrik\",\"Memancing\",\"Laki-Laki\"),\n",
        "        (\"Citra\", 29,\"Notaris\",\"Shopping\",\"Perempuan\"),\n",
        "        (\"Dina\", 45,\"Ibu Rumah Tangga\",\"Memasak\",\"Perempuan\")]\n",
        "columns = [\"Nama\", \"Usia\",\"Pekerjaan\",\"Hobi\",\"Jenis Kelamin\"]\n",
        "df = spark.createDataFrame(data, columns)\n",
        "\n",
        "# Menampilkan DataFrame\n",
        "df.show()"
      ]
    },
    {
      "cell_type": "markdown",
      "source": [
        "Latihan 2"
      ],
      "metadata": {
        "id": "sG5giX2bKFrx"
      }
    },
    {
      "cell_type": "code",
      "source": [
        "from pyspark.sql import SparkSession\n",
        "\n",
        "# Memulai Spark session\n",
        "spark = SparkSession.builder.appName(\"BigDataPractice\").getOrCreate()\n",
        "\n",
        "# Membuat DataFrame sederhana\n",
        "data = [(\"Ali\", 34, \"Guru\",\"Membaca Buku\",\"Laki-laki\"),\n",
        "        (\"Budi\", 23,\"Buruh Pabrik\",\"Memancing\",\"Laki-Laki\"),\n",
        "        (\"Citra\", 29,\"Notaris\",\"Shopping\",\"Perempuan\"),\n",
        "        (\"Dina\", 45,\"Ibu Rumah Tangga\",\"Memasak\",\"Perempuan\")]\n",
        "columns = [\"Nama\", \"Usia\",\"Pekerjaan\",\"Hobi\",\"Jenis Kelamin\"]\n",
        "df = spark.createDataFrame(data, columns)\n",
        "\n",
        "# Menampilkan DataFrame\n",
        "df.show()\n",
        "\n",
        "# Filtering data\n",
        "df_filtered = df.filter(df['Usia'] > 30)\n",
        "df_filtered.show()\n",
        "\n",
        "# Menghitung rata-rata usia\n",
        "from pyspark.sql.functions import avg\n",
        "df.groupBy().agg(avg(\"Usia\")).show()\n",
        "\n",
        "# Mengurutkan data berdasarkan usia\n",
        "df_sorted = df.orderBy(\"Usia\", ascending=False)\n",
        "df_sorted.show()"
      ],
      "metadata": {
        "colab": {
          "base_uri": "https://localhost:8080/"
        },
        "id": "fwqUmBEKKHeM",
        "outputId": "bf7df79a-ec3c-4564-d0e3-fea4233965d3"
      },
      "execution_count": 3,
      "outputs": [
        {
          "output_type": "stream",
          "name": "stdout",
          "text": [
            "+-----+----+----------------+------------+-------------+\n",
            "| Nama|Usia|       Pekerjaan|        Hobi|Jenis Kelamin|\n",
            "+-----+----+----------------+------------+-------------+\n",
            "|  Ali|  34|            Guru|Membaca Buku|    Laki-laki|\n",
            "| Budi|  23|    Buruh Pabrik|   Memancing|    Laki-Laki|\n",
            "|Citra|  29|         Notaris|    Shopping|    Perempuan|\n",
            "| Dina|  45|Ibu Rumah Tangga|     Memasak|    Perempuan|\n",
            "+-----+----+----------------+------------+-------------+\n",
            "\n",
            "+----+----+----------------+------------+-------------+\n",
            "|Nama|Usia|       Pekerjaan|        Hobi|Jenis Kelamin|\n",
            "+----+----+----------------+------------+-------------+\n",
            "| Ali|  34|            Guru|Membaca Buku|    Laki-laki|\n",
            "|Dina|  45|Ibu Rumah Tangga|     Memasak|    Perempuan|\n",
            "+----+----+----------------+------------+-------------+\n",
            "\n",
            "+---------+\n",
            "|avg(Usia)|\n",
            "+---------+\n",
            "|    32.75|\n",
            "+---------+\n",
            "\n",
            "+-----+----+----------------+------------+-------------+\n",
            "| Nama|Usia|       Pekerjaan|        Hobi|Jenis Kelamin|\n",
            "+-----+----+----------------+------------+-------------+\n",
            "| Dina|  45|Ibu Rumah Tangga|     Memasak|    Perempuan|\n",
            "|  Ali|  34|            Guru|Membaca Buku|    Laki-laki|\n",
            "|Citra|  29|         Notaris|    Shopping|    Perempuan|\n",
            "| Budi|  23|    Buruh Pabrik|   Memancing|    Laki-Laki|\n",
            "+-----+----+----------------+------------+-------------+\n",
            "\n"
          ]
        }
      ]
    },
    {
      "cell_type": "markdown",
      "source": [
        "Latihan 3"
      ],
      "metadata": {
        "id": "bPuXs2SKKiGX"
      }
    },
    {
      "cell_type": "code",
      "source": [
        "import pandas as pd\n",
        "\n",
        "# Membuat DataFrame Pandas\n",
        "data_pandas = {\"Nama\": [\"Ali\", \"Budi\", \"Citra\", \"Dina\"], \"Usia\": [34, 23, 29, 45]}\n",
        "df_pandas = pd.DataFrame(data_pandas)\n",
        "\n",
        "df_filtered = df.filter(df['Usia'] > 30)\n",
        "df_filtered.show()\n",
        "# Menampilkan DataFrame Pandas\n"
      ],
      "metadata": {
        "colab": {
          "base_uri": "https://localhost:8080/"
        },
        "id": "JIuCjfjoKhMd",
        "outputId": "b1c58d41-0583-4725-9400-fbb513eec3ad"
      },
      "execution_count": 5,
      "outputs": [
        {
          "output_type": "stream",
          "name": "stdout",
          "text": [
            "+----+----+----------------+------------+-------------+\n",
            "|Nama|Usia|       Pekerjaan|        Hobi|Jenis Kelamin|\n",
            "+----+----+----------------+------------+-------------+\n",
            "| Ali|  34|            Guru|Membaca Buku|    Laki-laki|\n",
            "|Dina|  45|Ibu Rumah Tangga|     Memasak|    Perempuan|\n",
            "+----+----+----------------+------------+-------------+\n",
            "\n"
          ]
        }
      ]
    },
    {
      "cell_type": "markdown",
      "source": [
        "Latihan 4"
      ],
      "metadata": {
        "id": "YzpG74kBKtIY"
      }
    },
    {
      "cell_type": "code",
      "source": [
        "import pandas as pd\n",
        "\n",
        "# Membuat DataFrame Pandas\n",
        "data_pandas = {\"Nama\": [\"Ali\", \"Budi\", \"Citra\", \"Dina\"], \"Usia\": [34, 23, 29, 45]}\n",
        "df_pandas = pd.DataFrame(data_pandas)\n",
        "\n",
        "# Membuat DataFrame kedua\n",
        "data_pandas_2 = {\"Nama\": [\"Ali\", \"Budi\", \"Citra\", \"Dina\"], \"Pekerjaan\": [\"Guru\", \"Buruh Pabrik\", \"Notaris\", \"Ibu Rumah Tangga\"]}\n",
        "df_pandas_2 = pd.DataFrame(data_pandas_2)\n",
        "\n",
        "# Join antara dua DataFrame\n",
        "df_joined = pd.merge(df_pandas, df_pandas_2, on=\"Nama\")\n",
        "print(df_joined)\n",
        "\n",
        "# Menghitung statistik deskriptif\n",
        "print(df_pandas.describe())\n",
        "\n",
        "# Plotting Data\n",
        "import matplotlib.pyplot as plt\n",
        "df_pandas['Usia'].plot(kind='bar')\n",
        "plt.show()\n"
      ],
      "metadata": {
        "colab": {
          "base_uri": "https://localhost:8080/",
          "height": 679
        },
        "id": "w5tDWJ0uKs0L",
        "outputId": "f0899f87-fe2e-4566-bc60-8d8ee87fb3dd"
      },
      "execution_count": null,
      "outputs": [
        {
          "output_type": "stream",
          "name": "stdout",
          "text": [
            "    Nama  Usia         Pekerjaan\n",
            "0    Ali    34              Guru\n",
            "1   Budi    23      Buruh Pabrik\n",
            "2  Citra    29           Notaris\n",
            "3   Dina    45  Ibu Rumah Tangga\n",
            "            Usia\n",
            "count   4.000000\n",
            "mean   32.750000\n",
            "std     9.322911\n",
            "min    23.000000\n",
            "25%    27.500000\n",
            "50%    31.500000\n",
            "75%    36.750000\n",
            "max    45.000000\n"
          ]
        },
        {
          "output_type": "display_data",
          "data": {
            "text/plain": [
              "<Figure size 640x480 with 1 Axes>"
            ],
            "image/png": "[encoded data removed]"
          },
          "metadata": {}
        }
      ]
    },
    {
      "cell_type": "markdown",
      "source": [
        "Tugas 5"
      ],
      "metadata": {
        "id": "nTg_8UATsueS"
      }
    },
    {
      "cell_type": "code",
      "source": [
        "import pandas as pd\n",
        "\n",
        "# Membuat DataFrame Pandas\n",
        "data_pandas = {\"Nama\": [\"Ali\", \"Budi\", \"Citra\", \"Dina\"],\n",
        "               \"Usia\": [34, 23, 29, 45]}\n",
        "df_pandas = pd.DataFrame(data_pandas)\n",
        "\n",
        "# Membuat DataFrame kedua\n",
        "data_pandas_2 = {\"Nama\": [\"Ali\", \"Budi\", \"Citra\", \"Dina\"],\n",
        "                 \"Pekerjaan\": [\"Guru\", \"Buruh Pabrik\", \"Notaris\", \"Ibu Rumah Tangga\"]}\n",
        "df_pandas_2 = pd.DataFrame(data_pandas_2)\n",
        "\n",
        "# Join antara dua DataFrame\n",
        "df_joined = pd.merge(df_pandas, df_pandas_2, on=\"Nama\")\n",
        "\n",
        "# Plotting Data\n",
        "df_joined.plot(x='Nama', kind='bar')\n",
        "plt.show()\n",
        "df_joined"
      ],
      "metadata": {
        "colab": {
          "base_uri": "https://localhost:8080/",
          "height": 627
        },
        "id": "dmNXFzjPuRf4",
        "outputId": "bc2cc5d2-0be5-4487-f1c8-f1bd5d87e9fc"
      },
      "execution_count": 14,
      "outputs": [
        {
          "output_type": "display_data",
          "data": {
            "text/plain": [
              "<Figure size 640x480 with 1 Axes>"
            ],
            "image/png": "[encoded data removed]"
          },
          "metadata": {}
        },
        {
          "output_type": "execute_result",
          "data": {
            "text/plain": [
              "    Nama  Usia         Pekerjaan\n",
              "0    Ali    34              Guru\n",
              "1   Budi    23      Buruh Pabrik\n",
              "2  Citra    29           Notaris\n",
              "3   Dina    45  Ibu Rumah Tangga"
            ],
            "text/html": [
              "\n",
              "  <div id=\"df-a1c2d253-c1bf-48e8-bcb9-2a53d12380ff\" class=\"colab-df-container\">\n",
              "    <div>\n",
              "<style scoped>\n",
              "    .dataframe tbody tr th:only-of-type {\n",
              "        vertical-align: middle;\n",
              "    }\n",
              "\n",
              "    .dataframe tbody tr th {\n",
              "        vertical-align: top;\n",
              "    }\n",
              "\n",
              "    .dataframe thead th {\n",
              "        text-align: right;\n",
              "    }\n",
              "</style>\n",
              "<table border=\"1\" class=\"dataframe\">\n",
              "  <thead>\n",
              "    <tr style=\"text-align: right;\">\n",
              "      <th></th>\n",
              "      <th>Nama</th>\n",
              "      <th>Usia</th>\n",
              "      <th>Pekerjaan</th>\n",
              "    </tr>\n",
              "  </thead>\n",
              "  <tbody>\n",
              "    <tr>\n",
              "      <th>0</th>\n",
              "      <td>Ali</td>\n",
              "      <td>34</td>\n",
              "      <td>Guru</td>\n",
              "    </tr>\n",
              "    <tr>\n",
              "      <th>1</th>\n",
              "      <td>Budi</td>\n",
              "      <td>23</td>\n",
              "      <td>Buruh Pabrik</td>\n",
              "    </tr>\n",
              "    <tr>\n",
              "      <th>2</th>\n",
              "      <td>Citra</td>\n",
              "      <td>29</td>\n",
              "      <td>Notaris</td>\n",
              "    </tr>\n",
              "    <tr>\n",
              "      <th>3</th>\n",
              "      <td>Dina</td>\n",
              "      <td>45</td>\n",
              "      <td>Ibu Rumah Tangga</td>\n",
              "    </tr>\n",
              "  </tbody>\n",
              "</table>\n",
              "</div>\n",
              "    <div class=\"colab-df-buttons\">\n",
              "\n",
              "  <div class=\"colab-df-container\">\n",
              "    <button class=\"colab-df-convert\" onclick=\"convertToInteractive('df-a1c2d253-c1bf-48e8-bcb9-2a53d12380ff')\"\n",
              "            title=\"Convert this dataframe to an interactive table.\"\n",
              "            style=\"display:none;\">\n",
              "\n",
              "  <svg xmlns=\"http://www.w3.org/2000/svg\" height=\"24px\" viewBox=\"0 -960 960 960\">\n",
              "    <path d=\"M120-120v-720h720v720H120Zm60-500h600v-160H180v160Zm220 220h160v-160H400v160Zm0 220h160v-160H400v160ZM180-400h160v-160H180v160Zm440 0h160v-160H620v160ZM180-180h160v-160H180v160Zm440 0h160v-160H620v160Z\"/>\n",
              "  </svg>\n",
              "    </button>\n",
              "\n",
              "  <style>\n",
              "    .colab-df-container {\n",
              "      display:flex;\n",
              "      gap: 12px;\n",
              "    }\n",
              "\n",
              "    .colab-df-convert {\n",
              "      background-color: #E8F0FE;\n",
              "      border: none;\n",
              "      border-radius: 50%;\n",
              "      cursor: pointer;\n",
              "      display: none;\n",
              "      fill: #1967D2;\n",
              "      height: 32px;\n",
              "      padding: 0 0 0 0;\n",
              "      width: 32px;\n",
              "    }\n",
              "\n",
              "    .colab-df-convert:hover {\n",
              "      background-color: #E2EBFA;\n",
              "      box-shadow: 0px 1px 2px rgba(60, 64, 67, 0.3), 0px 1px 3px 1px rgba(60, 64, 67, 0.15);\n",
              "      fill: #174EA6;\n",
              "    }\n",
              "\n",
              "    .colab-df-buttons div {\n",
              "      margin-bottom: 4px;\n",
              "    }\n",
              "\n",
              "    [theme=dark] .colab-df-convert {\n",
              "      background-color: #3B4455;\n",
              "      fill: #D2E3FC;\n",
              "    }\n",
              "\n",
              "    [theme=dark] .colab-df-convert:hover {\n",
              "      background-color: #434B5C;\n",
              "      box-shadow: 0px 1px 3px 1px rgba(0, 0, 0, 0.15);\n",
              "      filter: drop-shadow(0px 1px 2px rgba(0, 0, 0, 0.3));\n",
              "      fill: #FFFFFF;\n",
              "    }\n",
              "  </style>\n",
              "\n",
              "    <script>\n",
              "      const buttonEl =\n",
              "        document.querySelector('#df-a1c2d253-c1bf-48e8-bcb9-2a53d12380ff button.colab-df-convert');\n",
              "      buttonEl.style.display =\n",
              "        google.colab.kernel.accessAllowed ? 'block' : 'none';\n",
              "\n",
              "      async function convertToInteractive(key) {\n",
              "        const element = document.querySelector('#df-a1c2d253-c1bf-48e8-bcb9-2a53d12380ff');\n",
              "        const dataTable =\n",
              "          await google.colab.kernel.invokeFunction('convertToInteractive',\n",
              "                                                    [key], {});\n",
              "        if (!dataTable) return;\n",
              "\n",
              "        const docLinkHtml = 'Like what you see? Visit the ' +\n",
              "          '<a target=\"_blank\" href=https://colab.research.google.com/notebooks/data_table.ipynb>data table notebook</a>'\n",
              "          + ' to learn more about interactive tables.';\n",
              "        element.innerHTML = '';\n",
              "        dataTable['output_type'] = 'display_data';\n",
              "        await google.colab.output.renderOutput(dataTable, element);\n",
              "        const docLink = document.createElement('div');\n",
              "        docLink.innerHTML = docLinkHtml;\n",
              "        element.appendChild(docLink);\n",
              "      }\n",
              "    </script>\n",
              "  </div>\n",
              "\n",
              "\n",
              "    <div id=\"df-afc428ec-d786-4693-b7f1-6711fbb78836\">\n",
              "      <button class=\"colab-df-quickchart\" onclick=\"quickchart('df-afc428ec-d786-4693-b7f1-6711fbb78836')\"\n",
              "                title=\"Suggest charts\"\n",
              "                style=\"display:none;\">\n",
              "\n",
              "<svg xmlns=\"http://www.w3.org/2000/svg\" height=\"24px\"viewBox=\"0 0 24 24\"\n",
              "     width=\"24px\">\n",
              "    <g>\n",
              "        <path d=\"M19 3H5c-1.1 0-2 .9-2 2v14c0 1.1.9 2 2 2h14c1.1 0 2-.9 2-2V5c0-1.1-.9-2-2-2zM9 17H7v-7h2v7zm4 0h-2V7h2v10zm4 0h-2v-4h2v4z\"/>\n",
              "    </g>\n",
              "</svg>\n",
              "      </button>\n",
              "\n",
              "<style>\n",
              "  .colab-df-quickchart {\n",
              "      --bg-color: #E8F0FE;\n",
              "      --fill-color: #1967D2;\n",
              "      --hover-bg-color: #E2EBFA;\n",
              "      --hover-fill-color: #174EA6;\n",
              "      --disabled-fill-color: #AAA;\n",
              "      --disabled-bg-color: #DDD;\n",
              "  }\n",
              "\n",
              "  [theme=dark] .colab-df-quickchart {\n",
              "      --bg-color: #3B4455;\n",
              "      --fill-color: #D2E3FC;\n",
              "      --hover-bg-color: #434B5C;\n",
              "      --hover-fill-color: #FFFFFF;\n",
              "      --disabled-bg-color: #3B4455;\n",
              "      --disabled-fill-color: #666;\n",
              "  }\n",
              "\n",
              "  .colab-df-quickchart {\n",
              "    background-color: var(--bg-color);\n",
              "    border: none;\n",
              "    border-radius: 50%;\n",
              "    cursor: pointer;\n",
              "    display: none;\n",
              "    fill: var(--fill-color);\n",
              "    height: 32px;\n",
              "    padding: 0;\n",
              "    width: 32px;\n",
              "  }\n",
              "\n",
              "  .colab-df-quickchart:hover {\n",
              "    background-color: var(--hover-bg-color);\n",
              "    box-shadow: 0 1px 2px rgba(60, 64, 67, 0.3), 0 1px 3px 1px rgba(60, 64, 67, 0.15);\n",
              "    fill: var(--button-hover-fill-color);\n",
              "  }\n",
              "\n",
              "  .colab-df-quickchart-complete:disabled,\n",
              "  .colab-df-quickchart-complete:disabled:hover {\n",
              "    background-color: var(--disabled-bg-color);\n",
              "    fill: var(--disabled-fill-color);\n",
              "    box-shadow: none;\n",
              "  }\n",
              "\n",
              "  .colab-df-spinner {\n",
              "    border: 2px solid var(--fill-color);\n",
              "    border-color: transparent;\n",
              "    border-bottom-color: var(--fill-color);\n",
              "    animation:\n",
              "      spin 1s steps(1) infinite;\n",
              "  }\n",
              "\n",
              "  @keyframes spin {\n",
              "    0% {\n",
              "      border-color: transparent;\n",
              "      border-bottom-color: var(--fill-color);\n",
              "      border-left-color: var(--fill-color);\n",
              "    }\n",
              "    20% {\n",
              "      border-color: transparent;\n",
              "      border-left-color: var(--fill-color);\n",
              "      border-top-color: var(--fill-color);\n",
              "    }\n",
              "    30% {\n",
              "      border-color: transparent;\n",
              "      border-left-color: var(--fill-color);\n",
              "      border-top-color: var(--fill-color);\n",
              "      border-right-color: var(--fill-color);\n",
              "    }\n",
              "    40% {\n",
              "      border-color: transparent;\n",
              "      border-right-color: var(--fill-color);\n",
              "      border-top-color: var(--fill-color);\n",
              "    }\n",
              "    60% {\n",
              "      border-color: transparent;\n",
              "      border-right-color: var(--fill-color);\n",
              "    }\n",
              "    80% {\n",
              "      border-color: transparent;\n",
              "      border-right-color: var(--fill-color);\n",
              "      border-bottom-color: var(--fill-color);\n",
              "    }\n",
              "    90% {\n",
              "      border-color: transparent;\n",
              "      border-bottom-color: var(--fill-color);\n",
              "    }\n",
              "  }\n",
              "</style>\n",
              "\n",
              "      <script>\n",
              "        async function quickchart(key) {\n",
              "          const quickchartButtonEl =\n",
              "            document.querySelector('#' + key + ' button');\n",
              "          quickchartButtonEl.disabled = true;  // To prevent multiple clicks.\n",
              "          quickchartButtonEl.classList.add('colab-df-spinner');\n",
              "          try {\n",
              "            const charts = await google.colab.kernel.invokeFunction(\n",
              "                'suggestCharts', [key], {});\n",
              "          } catch (error) {\n",
              "            console.error('Error during call to suggestCharts:', error);\n",
              "          }\n",
              "          quickchartButtonEl.classList.remove('colab-df-spinner');\n",
              "          quickchartButtonEl.classList.add('colab-df-quickchart-complete');\n",
              "        }\n",
              "        (() => {\n",
              "          let quickchartButtonEl =\n",
              "            document.querySelector('#df-afc428ec-d786-4693-b7f1-6711fbb78836 button');\n",
              "          quickchartButtonEl.style.display =\n",
              "            google.colab.kernel.accessAllowed ? 'block' : 'none';\n",
              "        })();\n",
              "      </script>\n",
              "    </div>\n",
              "\n",
              "  <div id=\"id_6b02b2cb-7655-4062-866f-e6a561d6802d\">\n",
              "    <style>\n",
              "      .colab-df-generate {\n",
              "        background-color: #E8F0FE;\n",
              "        border: none;\n",
              "        border-radius: 50%;\n",
              "        cursor: pointer;\n",
              "        display: none;\n",
              "        fill: #1967D2;\n",
              "        height: 32px;\n",
              "        padding: 0 0 0 0;\n",
              "        width: 32px;\n",
              "      }\n",
              "\n",
              "      .colab-df-generate:hover {\n",
              "        background-color: #E2EBFA;\n",
              "        box-shadow: 0px 1px 2px rgba(60, 64, 67, 0.3), 0px 1px 3px 1px rgba(60, 64, 67, 0.15);\n",
              "        fill: #174EA6;\n",
              "      }\n",
              "\n",
              "      [theme=dark] .colab-df-generate {\n",
              "        background-color: #3B4455;\n",
              "        fill: #D2E3FC;\n",
              "      }\n",
              "\n",
              "      [theme=dark] .colab-df-generate:hover {\n",
              "        background-color: #434B5C;\n",
              "        box-shadow: 0px 1px 3px 1px rgba(0, 0, 0, 0.15);\n",
              "        filter: drop-shadow(0px 1px 2px rgba(0, 0, 0, 0.3));\n",
              "        fill: #FFFFFF;\n",
              "      }\n",
              "    </style>\n",
              "    <button class=\"colab-df-generate\" onclick=\"generateWithVariable('df_joined')\"\n",
              "            title=\"Generate code using this dataframe.\"\n",
              "            style=\"display:none;\">\n",
              "\n",
              "  <svg xmlns=\"http://www.w3.org/2000/svg\" height=\"24px\"viewBox=\"0 0 24 24\"\n",
              "       width=\"24px\">\n",
              "    <path d=\"M7,19H8.4L18.45,9,17,7.55,7,17.6ZM5,21V16.75L18.45,3.32a2,2,0,0,1,2.83,0l1.4,1.43a1.91,1.91,0,0,1,.58,1.4,1.91,1.91,0,0,1-.58,1.4L9.25,21ZM18.45,9,17,7.55Zm-12,3A5.31,5.31,0,0,0,4.9,8.1,5.31,5.31,0,0,0,1,6.5,5.31,5.31,0,0,0,4.9,4.9,5.31,5.31,0,0,0,6.5,1,5.31,5.31,0,0,0,8.1,4.9,5.31,5.31,0,0,0,12,6.5,5.46,5.46,0,0,0,6.5,12Z\"/>\n",
              "  </svg>\n",
              "    </button>\n",
              "    <script>\n",
              "      (() => {\n",
              "      const buttonEl =\n",
              "        document.querySelector('#id_6b02b2cb-7655-4062-866f-e6a561d6802d button.colab-df-generate');\n",
              "      buttonEl.style.display =\n",
              "        google.colab.kernel.accessAllowed ? 'block' : 'none';\n",
              "\n",
              "      buttonEl.onclick = () => {\n",
              "        google.colab.notebook.generateWithVariable('df_joined');\n",
              "      }\n",
              "      })();\n",
              "    </script>\n",
              "  </div>\n",
              "\n",
              "    </div>\n",
              "  </div>\n"
            ],
            "application/vnd.google.colaboratory.intrinsic+json": {
              "type": "dataframe",
              "variable_name": "df_joined",
              "summary": "{\n  \"name\": \"df_joined\",\n  \"rows\": 4,\n  \"fields\": [\n    {\n      \"column\": \"Nama\",\n      \"properties\": {\n        \"dtype\": \"string\",\n        \"num_unique_values\": 4,\n        \"samples\": [\n          \"Budi\",\n          \"Dina\",\n          \"Ali\"\n        ],\n        \"semantic_type\": \"\",\n        \"description\": \"\"\n      }\n    },\n    {\n      \"column\": \"Usia\",\n      \"properties\": {\n        \"dtype\": \"number\",\n        \"std\": 9,\n        \"min\": 23,\n        \"max\": 45,\n        \"num_unique_values\": 4,\n        \"samples\": [\n          23,\n          45,\n          34\n        ],\n        \"semantic_type\": \"\",\n        \"description\": \"\"\n      }\n    },\n    {\n      \"column\": \"Pekerjaan\",\n      \"properties\": {\n        \"dtype\": \"string\",\n        \"num_unique_values\": 4,\n        \"samples\": [\n          \"Buruh Pabrik\",\n          \"Ibu Rumah Tangga\",\n          \"Guru\"\n        ],\n        \"semantic_type\": \"\",\n        \"description\": \"\"\n      }\n    }\n  ]\n}"
            }
          },
          "metadata": {},
          "execution_count": 14
        }
      ]
    },
    {
      "cell_type": "markdown",
      "source": [
        "Latihan 5"
      ],
      "metadata": {
        "id": "s10O54Q7LBmX"
      }
    },
    {
      "cell_type": "code",
      "source": [
        "# Mengonversi DataFrame dari PySpark ke Pandas\n",
        "df_pandas_from_spark = df.toPandas()\n",
        "\n",
        "# Mengonversi DataFrame dari Pandas ke PySpark\n",
        "df_spark_from_pandas = spark.createDataFrame(df_pandas)\n",
        "\n",
        "# Menampilkan DataFrame hasil konversi\n",
        "df_pandas_from_spark, df_spark_from_pandas.show()"
      ],
      "metadata": {
        "id": "Gep0e3a6LBWW",
        "colab": {
          "base_uri": "https://localhost:8080/"
        },
        "outputId": "4fad81ef-f6cb-4e06-b861-6d45c2c97d93"
      },
      "execution_count": 6,
      "outputs": [
        {
          "output_type": "stream",
          "name": "stdout",
          "text": [
            "+-----+----+\n",
            "| Nama|Usia|\n",
            "+-----+----+\n",
            "|  Ali|  34|\n",
            "| Budi|  23|\n",
            "|Citra|  29|\n",
            "| Dina|  45|\n",
            "+-----+----+\n",
            "\n"
          ]
        },
        {
          "output_type": "execute_result",
          "data": {
            "text/plain": [
              "(    Nama  Usia         Pekerjaan          Hobi Jenis Kelamin\n",
              " 0    Ali    34              Guru  Membaca Buku     Laki-laki\n",
              " 1   Budi    23      Buruh Pabrik     Memancing     Laki-Laki\n",
              " 2  Citra    29           Notaris      Shopping     Perempuan\n",
              " 3   Dina    45  Ibu Rumah Tangga       Memasak     Perempuan,\n",
              " None)"
            ]
          },
          "metadata": {},
          "execution_count": 6
        }
      ]
    },
    {
      "cell_type": "code",
      "source": [
        "# Mengonversi DataFrame dari PySpark ke Pandas\n",
        "df_pandas_from_spark = df.toPandas()\n",
        "\n",
        "# Mengonversi DataFrame dari Pandas ke PySpark\n",
        "df_spark_from_pandas = spark.createDataFrame(df_pandas)\n",
        "\n",
        "# Menampilkan DataFrame hasil konversi\n",
        "df_pandas_from_spark, df_spark_from_pandas.show()\n",
        "\n",
        "#Perintah untuk menghitung rata-rata usia\n",
        "df.groupBy().agg(avg(\"Usia\")).show()\n"
      ],
      "metadata": {
        "colab": {
          "base_uri": "https://localhost:8080/"
        },
        "id": "sWk-WLKdxuub",
        "outputId": "f3224248-efa9-460d-8a01-d28fc0a4547a"
      },
      "execution_count": 15,
      "outputs": [
        {
          "output_type": "stream",
          "name": "stdout",
          "text": [
            "+-----+----+\n",
            "| Nama|Usia|\n",
            "+-----+----+\n",
            "|  Ali|  34|\n",
            "| Budi|  23|\n",
            "|Citra|  29|\n",
            "| Dina|  45|\n",
            "+-----+----+\n",
            "\n",
            "+---------+\n",
            "|avg(Usia)|\n",
            "+---------+\n",
            "|    32.75|\n",
            "+---------+\n",
            "\n"
          ]
        }
      ]
    },
    {
      "cell_type": "markdown",
      "source": [
        "Latihan 6"
      ],
      "metadata": {
        "id": "VJ5ulz9nLZx7"
      }
    },
    {
      "cell_type": "code",
      "source": [
        "# Mengonversi DataFrame dari PySpark ke Pandas\n",
        "df_pandas_from_spark = df.toPandas()\n",
        "\n",
        "# Mengonversi DataFrame dari Pandas ke PySpark\n",
        "df_spark_from_pandas = spark.createDataFrame(df_pandas)\n",
        "\n",
        "# Menampilkan DataFrame hasil konversi\n",
        "df_pandas_from_spark, df_spark_from_pandas.show()"
      ],
      "metadata": {
        "id": "jDhSIUOFLYTR",
        "colab": {
          "base_uri": "https://localhost:8080/"
        },
        "outputId": "10c3e6e5-68b9-496f-a658-24ea0c0baa05"
      },
      "execution_count": 16,
      "outputs": [
        {
          "output_type": "stream",
          "name": "stdout",
          "text": [
            "+-----+----+\n",
            "| Nama|Usia|\n",
            "+-----+----+\n",
            "|  Ali|  34|\n",
            "| Budi|  23|\n",
            "|Citra|  29|\n",
            "| Dina|  45|\n",
            "+-----+----+\n",
            "\n"
          ]
        },
        {
          "output_type": "execute_result",
          "data": {
            "text/plain": [
              "(    Nama  Usia         Pekerjaan          Hobi Jenis Kelamin\n",
              " 0    Ali    34              Guru  Membaca Buku     Laki-laki\n",
              " 1   Budi    23      Buruh Pabrik     Memancing     Laki-Laki\n",
              " 2  Citra    29           Notaris      Shopping     Perempuan\n",
              " 3   Dina    45  Ibu Rumah Tangga       Memasak     Perempuan,\n",
              " None)"
            ]
          },
          "metadata": {},
          "execution_count": 16
        }
      ]
    },
    {
      "cell_type": "code",
      "source": [
        "# Mengonversi DataFrame dari PySpark ke Pandas\n",
        "df_pandas_from_spark = df.toPandas()\n",
        "\n",
        "# Mengonversi DataFrame dari Pandas ke PySpark\n",
        "df_spark_from_pandas = spark.createDataFrame(df_pandas)\n",
        "\n",
        "# Menampilkan DataFrame hasil konversi\n",
        "df_pandas_from_spark, df_spark_from_pandas.show()\n",
        "\n",
        "#Menampilan nilai maksimum usia\n",
        "from pyspark.sql.functions import max\n",
        "df.groupBy().agg(max(\"Usia\")).show()"
      ],
      "metadata": {
        "id": "8AxxQatHMGWe",
        "colab": {
          "base_uri": "https://localhost:8080/"
        },
        "outputId": "83445fe2-ea3b-4df9-adbe-4a1eb76ff278"
      },
      "execution_count": 19,
      "outputs": [
        {
          "output_type": "stream",
          "name": "stdout",
          "text": [
            "+-----+----+\n",
            "| Nama|Usia|\n",
            "+-----+----+\n",
            "|  Ali|  34|\n",
            "| Budi|  23|\n",
            "|Citra|  29|\n",
            "| Dina|  45|\n",
            "+-----+----+\n",
            "\n",
            "+---------+\n",
            "|max(Usia)|\n",
            "+---------+\n",
            "|       45|\n",
            "+---------+\n",
            "\n"
          ]
        }
      ]
    }
  ]
}